{
 "cells": [
  {
   "cell_type": "code",
   "execution_count": null,
   "id": "9e6d0afc",
   "metadata": {},
   "outputs": [],
   "source": [
    "from apsislipiscanv1.ocr import ImageOCR"
   ]
  },
  {
   "cell_type": "code",
   "execution_count": null,
   "id": "ca90718d",
   "metadata": {},
   "outputs": [],
   "source": [
    "ocr=ImageOCR()"
   ]
  },
  {
   "cell_type": "code",
   "execution_count": null,
   "id": "897238d7",
   "metadata": {},
   "outputs": [],
   "source": [
    "res=ocr(\"usage/images/test.png\")"
   ]
  },
  {
   "cell_type": "code",
   "execution_count": null,
   "id": "3f902b45",
   "metadata": {},
   "outputs": [],
   "source": [
    "res"
   ]
  },
  {
   "cell_type": "code",
   "execution_count": null,
   "id": "c7b641c4",
   "metadata": {},
   "outputs": [],
   "source": [
    "import pandas as pd\n",
    "df=pd.DataFrame(res[\"words\"])\n",
    "df=df[['text','line_num','word_num']]\n",
    "df"
   ]
  },
  {
   "cell_type": "code",
   "execution_count": null,
   "id": "7ceb6a1e",
   "metadata": {},
   "outputs": [],
   "source": [
    "lines=[]\n",
    "_lines=sorted([_line for _line in df.line_num.unique()])\n",
    "for line in _lines:\n",
    "    ldf=df.loc[df.line_num==line]\n",
    "    ldf.reset_index(drop=True,inplace=True)\n",
    "    ldf=ldf.sort_values('word_num')\n",
    "    _ltext=''\n",
    "    for idx in range(len(ldf)):\n",
    "        text=ldf.iloc[idx,0]\n",
    "        _ltext+=' '+text\n",
    "    lines.append(_ltext)\n",
    "text=\"\\n\".join(lines)"
   ]
  },
  {
   "cell_type": "code",
   "execution_count": null,
   "id": "5e01bbcf",
   "metadata": {},
   "outputs": [],
   "source": [
    "text"
   ]
  },
  {
   "cell_type": "code",
   "execution_count": null,
   "id": "5d76c1ef",
   "metadata": {},
   "outputs": [],
   "source": []
  }
 ],
 "metadata": {
  "kernelspec": {
   "display_name": "apsislipiscanv1gpu",
   "language": "python",
   "name": "python3"
  },
  "language_info": {
   "codemirror_mode": {
    "name": "ipython",
    "version": 3
   },
   "file_extension": ".py",
   "mimetype": "text/x-python",
   "name": "python",
   "nbconvert_exporter": "python",
   "pygments_lexer": "ipython3",
   "version": "3.9.23"
  }
 },
 "nbformat": 4,
 "nbformat_minor": 5
}
