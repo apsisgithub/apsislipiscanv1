{
 "cells": [
  {
   "cell_type": "code",
   "execution_count": 1,
   "id": "9e6d0afc",
   "metadata": {},
   "outputs": [],
   "source": [
    "from apsislipiscanv1.ocr import ImageOCR"
   ]
  },
  {
   "cell_type": "code",
   "execution_count": 2,
   "id": "ca90718d",
   "metadata": {},
   "outputs": [
    {
     "name": "stdout",
     "output_type": "stream",
     "text": [
      "\u001b[32m#LOG     :\u001b[0m\u001b[34mLoaded Bangla Recognition Model: ApsisNet\u001b[0m\n",
      "[INFO] fastdeploy/runtime/runtime.cc(273)::CreatePaddleBackend\tRuntime initialized with Backend::PDINFER in Device::GPU.\n",
      "\u001b[32m#LOG     :\u001b[0m\u001b[34mLoaded Word detector Model: Paddle-DBnet\u001b[0m\n"
     ]
    }
   ],
   "source": [
    "ocr=ImageOCR()"
   ]
  },
  {
   "cell_type": "code",
   "execution_count": 4,
   "id": "897238d7",
   "metadata": {},
   "outputs": [],
   "source": [
    "res=ocr(\"usage/images/test.png\")"
   ]
  },
  {
   "cell_type": "code",
   "execution_count": 6,
   "id": "c7b641c4",
   "metadata": {},
   "outputs": [
    {
     "data": {
      "text/html": [
       "<div>\n",
       "<style scoped>\n",
       "    .dataframe tbody tr th:only-of-type {\n",
       "        vertical-align: middle;\n",
       "    }\n",
       "\n",
       "    .dataframe tbody tr th {\n",
       "        vertical-align: top;\n",
       "    }\n",
       "\n",
       "    .dataframe thead th {\n",
       "        text-align: right;\n",
       "    }\n",
       "</style>\n",
       "<table border=\"1\" class=\"dataframe\">\n",
       "  <thead>\n",
       "    <tr style=\"text-align: right;\">\n",
       "      <th></th>\n",
       "      <th>text</th>\n",
       "      <th>line_num</th>\n",
       "      <th>word_num</th>\n",
       "    </tr>\n",
       "  </thead>\n",
       "  <tbody>\n",
       "    <tr>\n",
       "      <th>0</th>\n",
       "      <td>আমি</td>\n",
       "      <td>1</td>\n",
       "      <td>1</td>\n",
       "    </tr>\n",
       "    <tr>\n",
       "      <th>1</th>\n",
       "      <td>ওর</td>\n",
       "      <td>1</td>\n",
       "      <td>2</td>\n",
       "    </tr>\n",
       "    <tr>\n",
       "      <th>2</th>\n",
       "      <td>কথা</td>\n",
       "      <td>1</td>\n",
       "      <td>3</td>\n",
       "    </tr>\n",
       "    <tr>\n",
       "      <th>3</th>\n",
       "      <td>শুনি</td>\n",
       "      <td>1</td>\n",
       "      <td>4</td>\n",
       "    </tr>\n",
       "    <tr>\n",
       "      <th>4</th>\n",
       "      <td>না।</td>\n",
       "      <td>1</td>\n",
       "      <td>5</td>\n",
       "    </tr>\n",
       "    <tr>\n",
       "      <th>...</th>\n",
       "      <td>...</td>\n",
       "      <td>...</td>\n",
       "      <td>...</td>\n",
       "    </tr>\n",
       "    <tr>\n",
       "      <th>62</th>\n",
       "      <td>আমি</td>\n",
       "      <td>12</td>\n",
       "      <td>5</td>\n",
       "    </tr>\n",
       "    <tr>\n",
       "      <th>63</th>\n",
       "      <td>কী</td>\n",
       "      <td>12</td>\n",
       "      <td>6</td>\n",
       "    </tr>\n",
       "    <tr>\n",
       "      <th>64</th>\n",
       "      <td>করব</td>\n",
       "      <td>12</td>\n",
       "      <td>7</td>\n",
       "    </tr>\n",
       "    <tr>\n",
       "      <th>65</th>\n",
       "      <td>বলুন</td>\n",
       "      <td>13</td>\n",
       "      <td>1</td>\n",
       "    </tr>\n",
       "    <tr>\n",
       "      <th>66</th>\n",
       "      <td>ডাক্তারবাবু!</td>\n",
       "      <td>13</td>\n",
       "      <td>2</td>\n",
       "    </tr>\n",
       "  </tbody>\n",
       "</table>\n",
       "<p>67 rows × 3 columns</p>\n",
       "</div>"
      ],
      "text/plain": [
       "            text  line_num  word_num\n",
       "0            আমি         1         1\n",
       "1             ওর         1         2\n",
       "2            কথা         1         3\n",
       "3           শুনি         1         4\n",
       "4            না।         1         5\n",
       "..           ...       ...       ...\n",
       "62           আমি        12         5\n",
       "63            কী        12         6\n",
       "64           করব        12         7\n",
       "65          বলুন        13         1\n",
       "66  ডাক্তারবাবু!        13         2\n",
       "\n",
       "[67 rows x 3 columns]"
      ]
     },
     "execution_count": 6,
     "metadata": {},
     "output_type": "execute_result"
    }
   ],
   "source": [
    "import pandas as pd\n",
    "df=pd.DataFrame(res[\"words\"])\n",
    "df=df[['text','line_num','word_num']]\n",
    "df"
   ]
  },
  {
   "cell_type": "code",
   "execution_count": 8,
   "id": "7ceb6a1e",
   "metadata": {},
   "outputs": [],
   "source": [
    "lines=[]\n",
    "_lines=sorted([_line for _line in df.line_num.unique()])\n",
    "for line in _lines:\n",
    "    ldf=df.loc[df.line_num==line]\n",
    "    ldf.reset_index(drop=True,inplace=True)\n",
    "    ldf=ldf.sort_values('word_num')\n",
    "    _ltext=''\n",
    "    for idx in range(len(ldf)):\n",
    "        text=ldf.iloc[idx,0]\n",
    "        _ltext+=' '+text\n",
    "    lines.append(_ltext)\n",
    "text=\"\\n\".join(lines)"
   ]
  },
  {
   "cell_type": "code",
   "execution_count": 10,
   "id": "5e01bbcf",
   "metadata": {},
   "outputs": [
    {
     "data": {
      "text/plain": [
       "' আমি ওর কথা শুনি না। দুটো লোকাল\\n ট্রেন ছেড়ে দিই। তখন আলো জ্বলে\\n গেছে স্টেশনে। দূর থেকে দেখতে\\n পাওয়া বাড়িগুলোতেও সন্ধের আলো।\\n আর সত্যিই স্টেশন শুনশান প্রায়।\\n আমি আর হরিচরণ অপেক্ষা করি।\\n পালাতে পারি না ওকে। ফেলে। ডাক্তার\\n আমাকে বলেছিল, আপনি আপনার\\n ভাইকে খুঁজছেন, সেটা আপনার মনের\\n ভুল। কিন্তু আমি তো এবার আমার\\n ভাইকে খুঁজছিলাম না। আমার ভাই-ই\\n যদি আমাকে খুঁজে নেয় আমি কী করব\\n বলুন ডাক্তারবাবু!'"
      ]
     },
     "execution_count": 10,
     "metadata": {},
     "output_type": "execute_result"
    }
   ],
   "source": [
    "text"
   ]
  },
  {
   "cell_type": "code",
   "execution_count": null,
   "id": "5d76c1ef",
   "metadata": {},
   "outputs": [],
   "source": []
  }
 ],
 "metadata": {
  "kernelspec": {
   "display_name": "apsislipiscanv1",
   "language": "python",
   "name": "python3"
  },
  "language_info": {
   "codemirror_mode": {
    "name": "ipython",
    "version": 3
   },
   "file_extension": ".py",
   "mimetype": "text/x-python",
   "name": "python",
   "nbconvert_exporter": "python",
   "pygments_lexer": "ipython3",
   "version": "3.9.21"
  }
 },
 "nbformat": 4,
 "nbformat_minor": 5
}
